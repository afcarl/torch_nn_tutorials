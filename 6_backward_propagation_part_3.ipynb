{
 "cells": [
  {
   "cell_type": "markdown",
   "metadata": {},
   "source": [
    "# Torch Tutorial 6 : Backward Propagation ( part 3 )"
   ]
  },
  {
   "cell_type": "code",
   "execution_count": 1,
   "metadata": {
    "collapsed": true
   },
   "outputs": [],
   "source": [
    "torch.manualSeed(0)\n",
    "require 'nn'"
   ]
  },
  {
   "cell_type": "code",
   "execution_count": 2,
   "metadata": {
    "collapsed": false
   },
   "outputs": [
    {
     "data": {
      "text/plain": [
       "-1.2882e-231 -1.2882e-231\n",
       " 2.1403e+161  3.9845e+252\n",
       "  7.7075e-43   4.5713e-71\n",
       "[torch.DoubleTensor of size 3x2]\n",
       "\n",
       "-1.2882e-231\n",
       "-1.2882e-231\n",
       "  1.1659e-28\n",
       "[torch.DoubleTensor of size 3]\n",
       "\n"
      ]
     },
     "execution_count": 2,
     "metadata": {},
     "output_type": "execute_result"
    }
   ],
   "source": [
    "l1 = nn.Linear(2,3)\n",
    "print(l1.gradWeight)\n",
    "print(l1.gradBias)"
   ]
  },
  {
   "cell_type": "code",
   "execution_count": 3,
   "metadata": {
    "collapsed": false
   },
   "outputs": [
    {
     "data": {
      "text/plain": [
       " 0  0\n",
       " 0  0\n",
       " 0  0\n",
       "[torch.DoubleTensor of size 3x2]\n",
       "\n",
       " 0\n",
       " 0\n",
       " 0\n",
       "[torch.DoubleTensor of size 3]\n",
       "\n"
      ]
     },
     "execution_count": 3,
     "metadata": {},
     "output_type": "execute_result"
    }
   ],
   "source": [
    "l1:zeroGradParameters()\n",
    "print(l1.gradWeight)\n",
    "print(l1.gradBias)"
   ]
  },
  {
   "cell_type": "code",
   "execution_count": 4,
   "metadata": {
    "collapsed": false
   },
   "outputs": [
    {
     "data": {
      "text/plain": [
       "\n",
       "  4   5\n",
       "  8  10\n",
       " 12  15\n",
       "[torch.DoubleTensor of size 3x2]\n",
       "\n",
       " 1\n",
       " 2\n",
       " 3\n",
       "[torch.DoubleTensor of size 3]\n",
       "\n"
      ]
     },
     "execution_count": 4,
     "metadata": {},
     "output_type": "execute_result"
    }
   ],
   "source": [
    "dj_dy = torch.Tensor{1,2,3}\n",
    "x = torch.Tensor{4,5}\n",
    "print( l1:accGradParameters( x,dj_dy ))\n",
    "print(l1.gradWeight)\n",
    "print(l1.gradBias)"
   ]
  },
  {
   "cell_type": "code",
   "execution_count": 5,
   "metadata": {
    "collapsed": false
   },
   "outputs": [
    {
     "data": {
      "text/plain": [
       " 0.1453  0.5062\n",
       " 0.0635  0.4911\n",
       "-0.1080  0.1747\n",
       "[torch.DoubleTensor of size 3x2]\n",
       "\n",
       " 0.2063\n",
       "-0.1635\n",
       "-0.0883\n",
       "[torch.DoubleTensor of size 3]\n",
       "\n",
       " 0.0653  0.4062\n",
       "-0.0965  0.2911\n",
       "-0.3480 -0.1253\n",
       "[torch.DoubleTensor of size 3x2]\n",
       "\n",
       " 0.1863\n",
       "-0.2035\n",
       "-0.1483\n",
       "[torch.DoubleTensor of size 3]\n",
       "\n"
      ]
     },
     "execution_count": 5,
     "metadata": {},
     "output_type": "execute_result"
    }
   ],
   "source": [
    "print(l1.weight)\n",
    "print(l1.bias)\n",
    "l1:updateParameters(0.02)\n",
    "print(l1.weight)\n",
    "print(l1.bias)"
   ]
  },
  {
   "cell_type": "code",
   "execution_count": null,
   "metadata": {
    "collapsed": true
   },
   "outputs": [],
   "source": []
  }
 ],
 "metadata": {
  "kernelspec": {
   "display_name": "iTorch",
   "language": "lua",
   "name": "itorch"
  },
  "language_info": {
   "name": "lua",
   "version": "5.1"
  }
 },
 "nbformat": 4,
 "nbformat_minor": 0
}
